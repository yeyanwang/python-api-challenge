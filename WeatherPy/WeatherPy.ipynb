{
 "cells": [
  {
   "cell_type": "markdown",
   "metadata": {},
   "source": [
    "# WeatherPy\n",
    "\n",
    "---\n",
    "\n",
    "## Generate Random Geographic Coordinates and a List of Cities"
   ]
  },
  {
   "cell_type": "code",
   "execution_count": 1,
   "metadata": {
    "scrolled": true
   },
   "outputs": [],
   "source": [
    "# Dependencies and Setup\n",
    "import matplotlib.pyplot as plt\n",
    "import pandas as pd\n",
    "import numpy as np\n",
    "import scipy.stats as st\n",
    "import requests\n",
    "import time\n",
    "from scipy.stats import linregress\n",
    "\n",
    "# Import the OpenWeatherMap API key\n",
    "from config import weather_api_key\n",
    "\n",
    "# Import citipy to determine the cities based on latitude and longitude\n",
    "from citipy import citipy"
   ]
  },
  {
   "cell_type": "markdown",
   "metadata": {},
   "source": [
    "### Generate the Cities List by Using the `citipy` Library"
   ]
  },
  {
   "cell_type": "code",
   "execution_count": 2,
   "metadata": {},
   "outputs": [
    {
     "name": "stdout",
     "output_type": "stream",
     "text": [
      "Number of cities in the list: 612\n"
     ]
    }
   ],
   "source": [
    "# Empty list for holding the latitude and longitude combinations\n",
    "lat_lngs = []\n",
    "\n",
    "# Empty list for holding the cities names\n",
    "cities = []\n",
    "\n",
    "# Range of latitudes and longitudes\n",
    "lat_range = (-90, 90)\n",
    "lng_range = (-180, 180)\n",
    "\n",
    "# Create a set of random lat and lng combinations\n",
    "lats = np.random.uniform(lat_range[0], lat_range[1], size=1500)\n",
    "lngs = np.random.uniform(lng_range[0], lng_range[1], size=1500)\n",
    "lat_lngs = zip(lats, lngs)\n",
    "\n",
    "# Identify nearest city for each lat, lng combination\n",
    "for lat_lng in lat_lngs:\n",
    "    city = citipy.nearest_city(lat_lng[0], lat_lng[1]).city_name\n",
    "    \n",
    "    # If the city is unique, then add it to a our cities list\n",
    "    if city not in cities:\n",
    "        cities.append(city)\n",
    "\n",
    "# Print the city count to confirm sufficient count\n",
    "print(f\"Number of cities in the list: {len(cities)}\")"
   ]
  },
  {
   "cell_type": "markdown",
   "metadata": {},
   "source": [
    "---"
   ]
  },
  {
   "cell_type": "markdown",
   "metadata": {},
   "source": [
    "## Create Plots to Showcase the Relationship Between Weather Variables and Latitude\n",
    "\n",
    "### Use the OpenWeatherMap API to retrieve weather data from the cities list generated "
   ]
  },
  {
   "cell_type": "code",
   "execution_count": 3,
   "metadata": {},
   "outputs": [
    {
     "name": "stdout",
     "output_type": "stream",
     "text": [
      "Beginning Data Retrieval     \n",
      "-----------------------------\n",
      "Processing Record 1 of Set 1 | longyearbyen\n",
      "Processing Record 2 of Set 1 | kaitangata\n",
      "Processing Record 3 of Set 1 | illoqqortoormiut\n",
      "City not found. Skipping...\n",
      "Processing Record 4 of Set 1 | hermanus\n",
      "Processing Record 5 of Set 1 | idukki\n",
      "Processing Record 6 of Set 1 | barrow\n",
      "Processing Record 7 of Set 1 | ranong\n",
      "Processing Record 8 of Set 1 | punta arenas\n",
      "Processing Record 9 of Set 1 | grand river south east\n",
      "City not found. Skipping...\n",
      "Processing Record 10 of Set 1 | toppenish\n",
      "Processing Record 11 of Set 1 | manaure\n",
      "Processing Record 12 of Set 1 | rikitea\n",
      "Processing Record 13 of Set 1 | saleaula\n",
      "City not found. Skipping...\n",
      "Processing Record 14 of Set 1 | yellowknife\n",
      "Processing Record 15 of Set 1 | kapaa\n",
      "Processing Record 16 of Set 1 | avarua\n",
      "Processing Record 17 of Set 1 | ushuaia\n",
      "Processing Record 18 of Set 1 | san felipe\n",
      "Processing Record 19 of Set 1 | gharghoda\n",
      "Processing Record 20 of Set 1 | utiroa\n",
      "City not found. Skipping...\n",
      "Processing Record 21 of Set 1 | kracheh\n",
      "City not found. Skipping...\n",
      "Processing Record 22 of Set 1 | charters towers\n",
      "Processing Record 23 of Set 1 | esperance\n",
      "Processing Record 24 of Set 1 | hasaki\n",
      "Processing Record 25 of Set 1 | vaini\n",
      "Processing Record 26 of Set 1 | el alto\n",
      "Processing Record 27 of Set 1 | nikel\n",
      "Processing Record 28 of Set 1 | salamiyah\n",
      "Processing Record 29 of Set 1 | darovskoy\n",
      "Processing Record 30 of Set 1 | laguna\n",
      "Processing Record 31 of Set 1 | mwinilunga\n",
      "Processing Record 32 of Set 1 | tshane\n",
      "Processing Record 33 of Set 1 | butaritari\n",
      "Processing Record 34 of Set 1 | fortuna\n",
      "Processing Record 35 of Set 1 | bud\n",
      "Processing Record 36 of Set 1 | arawa\n",
      "Processing Record 37 of Set 1 | norman wells\n",
      "Processing Record 38 of Set 1 | leh\n",
      "Processing Record 39 of Set 1 | port alfred\n",
      "Processing Record 40 of Set 1 | pisco\n",
      "Processing Record 41 of Set 1 | lerwick\n",
      "Processing Record 42 of Set 1 | mataura\n",
      "Processing Record 43 of Set 1 | deputatskiy\n",
      "Processing Record 44 of Set 1 | arraial do cabo\n",
      "Processing Record 45 of Set 1 | ankazobe\n",
      "Processing Record 46 of Set 1 | albany\n",
      "Processing Record 47 of Set 1 | atuona\n",
      "Processing Record 48 of Set 1 | banepa\n",
      "Processing Record 49 of Set 1 | lima\n",
      "Processing Record 50 of Set 1 | shahr-e babak\n",
      "Processing Record 0 of Set 2 | juba\n",
      "Processing Record 1 of Set 2 | beringovskiy\n",
      "Processing Record 2 of Set 2 | faanui\n",
      "Processing Record 3 of Set 2 | clyde river\n",
      "Processing Record 4 of Set 2 | busselton\n",
      "Processing Record 5 of Set 2 | vestmannaeyjar\n",
      "Processing Record 6 of Set 2 | cape town\n",
      "Processing Record 7 of Set 2 | lakhdenpokhya\n",
      "Processing Record 8 of Set 2 | kodiak\n",
      "Processing Record 9 of Set 2 | cherskiy\n",
      "Processing Record 10 of Set 2 | labuhan\n",
      "Processing Record 11 of Set 2 | tazovskiy\n",
      "Processing Record 12 of Set 2 | jovellar\n",
      "Processing Record 13 of Set 2 | rincon\n",
      "Processing Record 14 of Set 2 | bluff\n",
      "Processing Record 15 of Set 2 | grindavik\n",
      "Processing Record 16 of Set 2 | bredasdorp\n",
      "Processing Record 17 of Set 2 | ponta do sol\n",
      "Processing Record 18 of Set 2 | alofi\n",
      "Processing Record 19 of Set 2 | sitka\n",
      "Processing Record 20 of Set 2 | nagua\n",
      "Processing Record 21 of Set 2 | angelholm\n",
      "City not found. Skipping...\n",
      "Processing Record 22 of Set 2 | vardo\n",
      "Processing Record 23 of Set 2 | tura\n",
      "Processing Record 24 of Set 2 | attawapiskat\n",
      "City not found. Skipping...\n",
      "Processing Record 25 of Set 2 | hilo\n",
      "Processing Record 26 of Set 2 | thomaston\n",
      "Processing Record 27 of Set 2 | tacoronte\n",
      "Processing Record 28 of Set 2 | jamestown\n",
      "Processing Record 29 of Set 2 | hobart\n",
      "Processing Record 30 of Set 2 | ribeira grande\n",
      "Processing Record 31 of Set 2 | baracs\n",
      "Processing Record 32 of Set 2 | quatre cocos\n",
      "Processing Record 33 of Set 2 | coleraine\n",
      "Processing Record 34 of Set 2 | binghamton\n",
      "Processing Record 35 of Set 2 | kismayo\n",
      "Processing Record 36 of Set 2 | mar del plata\n",
      "Processing Record 37 of Set 2 | aripuana\n",
      "Processing Record 38 of Set 2 | fianga\n",
      "City not found. Skipping...\n",
      "Processing Record 39 of Set 2 | halalo\n",
      "City not found. Skipping...\n",
      "Processing Record 40 of Set 2 | kamenskoye\n",
      "City not found. Skipping...\n",
      "Processing Record 41 of Set 2 | puri\n",
      "Processing Record 42 of Set 2 | severo-kurilsk\n",
      "Processing Record 43 of Set 2 | port elizabeth\n",
      "Processing Record 44 of Set 2 | bara\n",
      "Processing Record 45 of Set 2 | nanortalik\n",
      "Processing Record 46 of Set 2 | qaanaaq\n",
      "Processing Record 47 of Set 2 | arvika\n",
      "Processing Record 48 of Set 2 | xai-xai\n",
      "Processing Record 49 of Set 2 | kruisfontein\n",
      "Processing Record 0 of Set 3 | hithadhoo\n",
      "Processing Record 1 of Set 3 | comodoro rivadavia\n",
      "Processing Record 2 of Set 3 | xingyi\n",
      "Processing Record 3 of Set 3 | talaya\n",
      "Processing Record 4 of Set 3 | college\n",
      "Processing Record 5 of Set 3 | mago\n",
      "Processing Record 6 of Set 3 | pangnirtung\n",
      "Processing Record 7 of Set 3 | amderma\n",
      "City not found. Skipping...\n",
      "Processing Record 8 of Set 3 | west bay\n",
      "Processing Record 9 of Set 3 | new norfolk\n",
      "Processing Record 10 of Set 3 | chara\n",
      "Processing Record 11 of Set 3 | koster\n",
      "Processing Record 12 of Set 3 | tiksi\n",
      "Processing Record 13 of Set 3 | tautira\n",
      "Processing Record 14 of Set 3 | kavaratti\n",
      "Processing Record 15 of Set 3 | rapid valley\n",
      "Processing Record 16 of Set 3 | ahipara\n",
      "Processing Record 17 of Set 3 | gazojak\n",
      "Processing Record 18 of Set 3 | nantucket\n",
      "Processing Record 19 of Set 3 | victoria\n",
      "Processing Record 20 of Set 3 | la crosse\n",
      "Processing Record 21 of Set 3 | mahebourg\n",
      "Processing Record 22 of Set 3 | mount isa\n",
      "Processing Record 23 of Set 3 | stornoway\n",
      "Processing Record 24 of Set 3 | bengkulu\n",
      "Processing Record 25 of Set 3 | nelson bay\n",
      "Processing Record 26 of Set 3 | hukuntsi\n",
      "Processing Record 27 of Set 3 | saint george\n",
      "Processing Record 28 of Set 3 | upernavik\n",
      "Processing Record 29 of Set 3 | saint-philippe\n",
      "Processing Record 30 of Set 3 | taolanaro\n",
      "City not found. Skipping...\n",
      "Processing Record 31 of Set 3 | srednekolymsk\n",
      "Processing Record 32 of Set 3 | sidney\n",
      "Processing Record 33 of Set 3 | chikoy\n",
      "City not found. Skipping...\n",
      "Processing Record 34 of Set 3 | pevek\n",
      "Processing Record 35 of Set 3 | nakhon phanom\n",
      "Processing Record 36 of Set 3 | clinton\n",
      "Processing Record 37 of Set 3 | thompson\n",
      "Processing Record 38 of Set 3 | mouzakion\n",
      "City not found. Skipping...\n",
      "Processing Record 39 of Set 3 | gurupi\n",
      "Processing Record 40 of Set 3 | lupiro\n",
      "Processing Record 41 of Set 3 | pringsewu\n",
      "Processing Record 42 of Set 3 | dikson\n",
      "Processing Record 43 of Set 3 | nhulunbuy\n",
      "Processing Record 44 of Set 3 | lavrentiya\n",
      "Processing Record 45 of Set 3 | cayenne\n",
      "Processing Record 46 of Set 3 | jimani\n",
      "Processing Record 47 of Set 3 | tasiilaq\n",
      "Processing Record 48 of Set 3 | broome\n",
      "Processing Record 49 of Set 3 | narsaq\n",
      "Processing Record 0 of Set 4 | ancud\n",
      "Processing Record 1 of Set 4 | mocuba\n",
      "Processing Record 2 of Set 4 | gimbi\n",
      "Processing Record 3 of Set 4 | rocha\n",
      "Processing Record 4 of Set 4 | coihaique\n",
      "Processing Record 5 of Set 4 | eyrarbakki\n",
      "Processing Record 6 of Set 4 | harper\n",
      "Processing Record 7 of Set 4 | tuktoyaktuk\n",
      "Processing Record 8 of Set 4 | tessalit\n",
      "Processing Record 9 of Set 4 | namibe\n",
      "Processing Record 10 of Set 4 | araouane\n",
      "Processing Record 11 of Set 4 | chokurdakh\n",
      "Processing Record 12 of Set 4 | lazaro cardenas\n",
      "Processing Record 13 of Set 4 | ascope\n",
      "Processing Record 14 of Set 4 | georgetown\n",
      "Processing Record 15 of Set 4 | asau\n",
      "Processing Record 16 of Set 4 | victor harbor\n",
      "Processing Record 17 of Set 4 | liku\n",
      "Processing Record 18 of Set 4 | debre birhan\n",
      "Processing Record 19 of Set 4 | mahibadhoo\n",
      "Processing Record 20 of Set 4 | balurghat\n",
      "Processing Record 21 of Set 4 | luderitz\n",
      "Processing Record 22 of Set 4 | konevo\n",
      "Processing Record 23 of Set 4 | nikolskoye\n",
      "Processing Record 24 of Set 4 | castro\n",
      "Processing Record 25 of Set 4 | changji\n",
      "Processing Record 26 of Set 4 | khatanga\n",
      "Processing Record 27 of Set 4 | ilulissat\n",
      "Processing Record 28 of Set 4 | yinchuan\n",
      "Processing Record 29 of Set 4 | jiddah\n",
      "City not found. Skipping...\n",
      "Processing Record 30 of Set 4 | provideniya\n",
      "Processing Record 31 of Set 4 | nome\n",
      "Processing Record 32 of Set 4 | russell\n",
      "Processing Record 33 of Set 4 | bartica\n",
      "Processing Record 34 of Set 4 | santa isabel do rio negro\n",
      "Processing Record 35 of Set 4 | hoshcha\n",
      "Processing Record 36 of Set 4 | sosva\n",
      "Processing Record 37 of Set 4 | auki\n"
     ]
    },
    {
     "name": "stdout",
     "output_type": "stream",
     "text": [
      "Processing Record 38 of Set 4 | iwanai\n",
      "Processing Record 39 of Set 4 | viesite\n",
      "Processing Record 40 of Set 4 | jacareacanga\n",
      "Processing Record 41 of Set 4 | umarkot\n",
      "Processing Record 42 of Set 4 | morros\n",
      "Processing Record 43 of Set 4 | yar-sale\n",
      "Processing Record 44 of Set 4 | genhe\n",
      "Processing Record 45 of Set 4 | newport\n",
      "Processing Record 46 of Set 4 | sentyabrskiy\n",
      "City not found. Skipping...\n",
      "Processing Record 47 of Set 4 | shache\n",
      "Processing Record 48 of Set 4 | belushya guba\n",
      "City not found. Skipping...\n",
      "Processing Record 49 of Set 4 | marawi\n",
      "Processing Record 0 of Set 5 | kajaani\n",
      "Processing Record 1 of Set 5 | petrolandia\n",
      "City not found. Skipping...\n",
      "Processing Record 2 of Set 5 | agogo\n",
      "Processing Record 3 of Set 5 | muriti\n",
      "Processing Record 4 of Set 5 | trinidad\n",
      "Processing Record 5 of Set 5 | san patricio\n",
      "Processing Record 6 of Set 5 | qandala\n",
      "Processing Record 7 of Set 5 | honiara\n",
      "Processing Record 8 of Set 5 | vavuniya\n",
      "Processing Record 9 of Set 5 | barentsburg\n",
      "City not found. Skipping...\n",
      "Processing Record 10 of Set 5 | naryan-mar\n",
      "Processing Record 11 of Set 5 | spartanburg\n",
      "Processing Record 12 of Set 5 | bethel\n",
      "Processing Record 13 of Set 5 | itabira\n",
      "Processing Record 14 of Set 5 | shingu\n",
      "Processing Record 15 of Set 5 | northam\n",
      "Processing Record 16 of Set 5 | pacific grove\n",
      "Processing Record 17 of Set 5 | cidreira\n",
      "Processing Record 18 of Set 5 | saskylakh\n",
      "Processing Record 19 of Set 5 | punta alta\n",
      "Processing Record 20 of Set 5 | caravelas\n",
      "Processing Record 21 of Set 5 | mahon\n",
      "Processing Record 22 of Set 5 | umzimvubu\n",
      "City not found. Skipping...\n",
      "Processing Record 23 of Set 5 | batagay\n",
      "Processing Record 24 of Set 5 | weiser\n",
      "Processing Record 25 of Set 5 | hamilton\n",
      "Processing Record 26 of Set 5 | salinopolis\n",
      "Processing Record 27 of Set 5 | turukhansk\n",
      "Processing Record 28 of Set 5 | usinsk\n",
      "Processing Record 29 of Set 5 | baykit\n",
      "Processing Record 30 of Set 5 | toliary\n",
      "City not found. Skipping...\n",
      "Processing Record 31 of Set 5 | zhezkazgan\n",
      "Processing Record 32 of Set 5 | whitehorse\n",
      "Processing Record 33 of Set 5 | general higinio morinigo\n",
      "Processing Record 34 of Set 5 | east london\n",
      "Processing Record 35 of Set 5 | chuy\n",
      "Processing Record 36 of Set 5 | astana\n",
      "Processing Record 37 of Set 5 | mehran\n",
      "Processing Record 38 of Set 5 | guerrero negro\n",
      "Processing Record 39 of Set 5 | nyurba\n",
      "Processing Record 40 of Set 5 | west lorne\n",
      "Processing Record 41 of Set 5 | abu jubayhah\n",
      "City not found. Skipping...\n",
      "Processing Record 42 of Set 5 | hambantota\n",
      "Processing Record 43 of Set 5 | znamenskoye\n",
      "Processing Record 44 of Set 5 | barbar\n",
      "City not found. Skipping...\n",
      "Processing Record 45 of Set 5 | agadir\n",
      "Processing Record 46 of Set 5 | kovdor\n",
      "Processing Record 47 of Set 5 | puerto escondido\n",
      "Processing Record 48 of Set 5 | nouadhibou\n",
      "Processing Record 49 of Set 5 | glendive\n",
      "Processing Record 0 of Set 6 | husavik\n",
      "Processing Record 1 of Set 6 | morondava\n",
      "Processing Record 2 of Set 6 | umm lajj\n",
      "Processing Record 3 of Set 6 | dingle\n",
      "Processing Record 4 of Set 6 | san quintin\n",
      "Processing Record 5 of Set 6 | carnarvon\n",
      "Processing Record 6 of Set 6 | alugan\n",
      "Processing Record 7 of Set 6 | pattaya\n",
      "Processing Record 8 of Set 6 | puerto ayora\n",
      "Processing Record 9 of Set 6 | de land\n",
      "Processing Record 10 of Set 6 | kalmunai\n",
      "Processing Record 11 of Set 6 | flinders\n",
      "Processing Record 12 of Set 6 | la ronge\n",
      "Processing Record 13 of Set 6 | alakurtti\n",
      "Processing Record 14 of Set 6 | saldanha\n",
      "Processing Record 15 of Set 6 | naliya\n",
      "Processing Record 16 of Set 6 | mayumba\n",
      "Processing Record 17 of Set 6 | los llanos de aridane\n",
      "Processing Record 18 of Set 6 | conceicao da barra\n",
      "Processing Record 19 of Set 6 | mehamn\n",
      "Processing Record 20 of Set 6 | liling\n",
      "Processing Record 21 of Set 6 | buraydah\n",
      "Processing Record 22 of Set 6 | matamoros\n",
      "Processing Record 23 of Set 6 | sun valley\n",
      "Processing Record 24 of Set 6 | mys shmidta\n",
      "City not found. Skipping...\n",
      "Processing Record 25 of Set 6 | elko\n",
      "Processing Record 26 of Set 6 | pedro ii\n",
      "Processing Record 27 of Set 6 | henties bay\n",
      "Processing Record 28 of Set 6 | tenango\n",
      "Processing Record 29 of Set 6 | aguimes\n",
      "Processing Record 30 of Set 6 | lorengau\n",
      "Processing Record 31 of Set 6 | mancio lima\n",
      "Processing Record 32 of Set 6 | manaus\n",
      "Processing Record 33 of Set 6 | ostrovnoy\n",
      "Processing Record 34 of Set 6 | itamaraca\n",
      "Processing Record 35 of Set 6 | luanda\n",
      "Processing Record 36 of Set 6 | lebu\n",
      "Processing Record 37 of Set 6 | porto santo\n",
      "Processing Record 38 of Set 6 | ust-kuyga\n",
      "Processing Record 39 of Set 6 | touros\n",
      "Processing Record 40 of Set 6 | mopti\n",
      "Processing Record 41 of Set 6 | catuday\n",
      "Processing Record 42 of Set 6 | half moon bay\n",
      "Processing Record 43 of Set 6 | lafiagi\n",
      "Processing Record 44 of Set 6 | bambous virieux\n",
      "Processing Record 45 of Set 6 | torbay\n",
      "Processing Record 46 of Set 6 | kudahuvadhoo\n",
      "Processing Record 47 of Set 6 | udachnyy\n",
      "Processing Record 48 of Set 6 | salym\n",
      "Processing Record 49 of Set 6 | geraldton\n",
      "Processing Record 0 of Set 7 | morro bay\n",
      "Processing Record 1 of Set 7 | tarko-sale\n",
      "Processing Record 2 of Set 7 | chapais\n",
      "Processing Record 3 of Set 7 | ulladulla\n",
      "Processing Record 4 of Set 7 | upata\n",
      "Processing Record 5 of Set 7 | cabo san lucas\n",
      "Processing Record 6 of Set 7 | north bend\n",
      "Processing Record 7 of Set 7 | port lincoln\n",
      "Processing Record 8 of Set 7 | key west\n",
      "Processing Record 9 of Set 7 | urengoy\n",
      "Processing Record 10 of Set 7 | humberto de campos\n",
      "Processing Record 11 of Set 7 | caucaia\n",
      "Processing Record 12 of Set 7 | ayan\n",
      "Processing Record 13 of Set 7 | kutum\n",
      "Processing Record 14 of Set 7 | tuatapere\n",
      "Processing Record 15 of Set 7 | khani\n",
      "Processing Record 16 of Set 7 | siniscola\n",
      "Processing Record 17 of Set 7 | ganzhou\n",
      "Processing Record 18 of Set 7 | tiarei\n",
      "Processing Record 19 of Set 7 | tuggurt\n",
      "City not found. Skipping...\n",
      "Processing Record 20 of Set 7 | karratha\n",
      "Processing Record 21 of Set 7 | tamworth\n",
      "Processing Record 22 of Set 7 | mayo\n",
      "Processing Record 23 of Set 7 | zhanaozen\n",
      "Processing Record 24 of Set 7 | havre\n",
      "Processing Record 25 of Set 7 | djibo\n",
      "Processing Record 26 of Set 7 | tsihombe\n",
      "City not found. Skipping...\n",
      "Processing Record 27 of Set 7 | honningsvag\n",
      "Processing Record 28 of Set 7 | kazachinskoye\n",
      "Processing Record 29 of Set 7 | florida\n",
      "Processing Record 30 of Set 7 | fayaoue\n",
      "Processing Record 31 of Set 7 | esil\n",
      "Processing Record 32 of Set 7 | superior\n",
      "Processing Record 33 of Set 7 | capaci\n",
      "Processing Record 34 of Set 7 | manado\n",
      "Processing Record 35 of Set 7 | mwense\n",
      "Processing Record 36 of Set 7 | kavieng\n",
      "Processing Record 37 of Set 7 | sorvag\n",
      "City not found. Skipping...\n",
      "Processing Record 38 of Set 7 | calama\n",
      "Processing Record 39 of Set 7 | ende\n",
      "Processing Record 40 of Set 7 | disa\n",
      "Processing Record 41 of Set 7 | bairiki\n",
      "Processing Record 42 of Set 7 | awbari\n",
      "Processing Record 43 of Set 7 | vadlapudi\n",
      "Processing Record 44 of Set 7 | belmonte\n",
      "Processing Record 45 of Set 7 | galle\n",
      "Processing Record 46 of Set 7 | saint pete beach\n",
      "Processing Record 47 of Set 7 | swan river\n",
      "Processing Record 48 of Set 7 | guasdualito\n",
      "Processing Record 49 of Set 7 | codrington\n",
      "Processing Record 0 of Set 8 | palabuhanratu\n",
      "City not found. Skipping...\n",
      "Processing Record 1 of Set 8 | chiredzi\n",
      "Processing Record 2 of Set 8 | sambava\n",
      "Processing Record 3 of Set 8 | hobyo\n",
      "Processing Record 4 of Set 8 | mitsamiouli\n",
      "Processing Record 5 of Set 8 | padang\n",
      "Processing Record 6 of Set 8 | egvekinot\n",
      "Processing Record 7 of Set 8 | samusu\n",
      "City not found. Skipping...\n",
      "Processing Record 8 of Set 8 | mamallapuram\n",
      "Processing Record 9 of Set 8 | vaitupu\n",
      "City not found. Skipping...\n",
      "Processing Record 10 of Set 8 | port-cartier\n",
      "Processing Record 11 of Set 8 | biloela\n",
      "Processing Record 12 of Set 8 | menongue\n",
      "Processing Record 13 of Set 8 | tamiahua\n",
      "Processing Record 14 of Set 8 | kahului\n",
      "Processing Record 15 of Set 8 | grand gaube\n",
      "Processing Record 16 of Set 8 | hvolsvollur\n",
      "Processing Record 17 of Set 8 | airai\n",
      "Processing Record 18 of Set 8 | gualaquiza\n",
      "Processing Record 19 of Set 8 | gurgan\n",
      "City not found. Skipping...\n",
      "Processing Record 20 of Set 8 | rio grande\n",
      "Processing Record 21 of Set 8 | verkhnevilyuysk\n",
      "Processing Record 22 of Set 8 | hualmay\n",
      "Processing Record 23 of Set 8 | datong\n",
      "Processing Record 24 of Set 8 | evensk\n",
      "Processing Record 25 of Set 8 | atambua\n",
      "Processing Record 26 of Set 8 | zhelyabovka\n"
     ]
    },
    {
     "name": "stdout",
     "output_type": "stream",
     "text": [
      "Processing Record 27 of Set 8 | ryazhsk\n",
      "Processing Record 28 of Set 8 | oktyabrskoye\n",
      "Processing Record 29 of Set 8 | jalu\n",
      "Processing Record 30 of Set 8 | aklavik\n",
      "Processing Record 31 of Set 8 | kambove\n",
      "Processing Record 32 of Set 8 | klaksvik\n",
      "Processing Record 33 of Set 8 | yerbogachen\n",
      "Processing Record 34 of Set 8 | igarapava\n",
      "Processing Record 35 of Set 8 | port blair\n",
      "Processing Record 36 of Set 8 | sao filipe\n",
      "Processing Record 37 of Set 8 | varna\n",
      "Processing Record 38 of Set 8 | bilma\n",
      "Processing Record 39 of Set 8 | komsomolskiy\n",
      "Processing Record 40 of Set 8 | ceres\n",
      "Processing Record 41 of Set 8 | nchelenge\n",
      "Processing Record 42 of Set 8 | noyabrsk\n",
      "Processing Record 43 of Set 8 | manokwari\n",
      "Processing Record 44 of Set 8 | dossor\n",
      "Processing Record 45 of Set 8 | berlevag\n",
      "Processing Record 46 of Set 8 | severobaykalsk\n",
      "Processing Record 47 of Set 8 | kadykchan\n",
      "City not found. Skipping...\n",
      "Processing Record 48 of Set 8 | linjiang\n",
      "Processing Record 49 of Set 8 | arman\n",
      "Processing Record 0 of Set 9 | spencer\n",
      "Processing Record 1 of Set 9 | aksu\n",
      "Processing Record 2 of Set 9 | hami\n",
      "Processing Record 3 of Set 9 | missoula\n",
      "Processing Record 4 of Set 9 | stephenville\n",
      "Processing Record 5 of Set 9 | vryheid\n",
      "Processing Record 6 of Set 9 | sur\n",
      "Processing Record 7 of Set 9 | amuntai\n",
      "Processing Record 8 of Set 9 | monduli\n",
      "Processing Record 9 of Set 9 | vigia\n",
      "Processing Record 10 of Set 9 | eirunepe\n",
      "Processing Record 11 of Set 9 | veraval\n",
      "Processing Record 12 of Set 9 | nimaparha\n",
      "Processing Record 13 of Set 9 | san cristobal\n",
      "Processing Record 14 of Set 9 | gweta\n",
      "Processing Record 15 of Set 9 | miraflores\n",
      "Processing Record 16 of Set 9 | havre-saint-pierre\n",
      "Processing Record 17 of Set 9 | zdvinsk\n",
      "Processing Record 18 of Set 9 | tolbazy\n",
      "Processing Record 19 of Set 9 | uttaradit\n",
      "Processing Record 20 of Set 9 | kushima\n",
      "Processing Record 21 of Set 9 | acapetahua\n",
      "Processing Record 22 of Set 9 | khasan\n",
      "Processing Record 23 of Set 9 | vila franca do campo\n",
      "Processing Record 24 of Set 9 | bathsheba\n",
      "Processing Record 25 of Set 9 | port-gentil\n",
      "Processing Record 26 of Set 9 | iqaluit\n",
      "Processing Record 27 of Set 9 | huarmey\n",
      "Processing Record 28 of Set 9 | grootfontein\n",
      "Processing Record 29 of Set 9 | san jeronimo\n",
      "Processing Record 30 of Set 9 | nacala\n",
      "Processing Record 31 of Set 9 | saint-leu\n",
      "Processing Record 32 of Set 9 | ceara-mirim\n",
      "City not found. Skipping...\n",
      "Processing Record 33 of Set 9 | sukhobuzimskoye\n",
      "Processing Record 34 of Set 9 | pilar\n",
      "Processing Record 35 of Set 9 | san rafael\n",
      "Processing Record 36 of Set 9 | nivala\n",
      "Processing Record 37 of Set 9 | nicoya\n",
      "Processing Record 38 of Set 9 | belousovka\n",
      "Processing Record 39 of Set 9 | tshikapa\n",
      "Processing Record 40 of Set 9 | gravdal\n",
      "Processing Record 41 of Set 9 | mana\n",
      "Processing Record 42 of Set 9 | nichinan\n",
      "Processing Record 43 of Set 9 | presidencia roque saenz pena\n",
      "Processing Record 44 of Set 9 | mineros\n",
      "Processing Record 45 of Set 9 | evanston\n",
      "Processing Record 46 of Set 9 | kodinar\n",
      "Processing Record 47 of Set 9 | lufilufi\n",
      "Processing Record 48 of Set 9 | namatanai\n",
      "Processing Record 49 of Set 9 | bealanana\n",
      "Processing Record 0 of Set 10 | jadu\n",
      "Processing Record 1 of Set 10 | coquimbo\n",
      "Processing Record 2 of Set 10 | nizhneyansk\n",
      "City not found. Skipping...\n",
      "Processing Record 3 of Set 10 | katsuura\n",
      "Processing Record 4 of Set 10 | tumannyy\n",
      "City not found. Skipping...\n",
      "Processing Record 5 of Set 10 | savinka\n",
      "Processing Record 6 of Set 10 | azimur\n",
      "City not found. Skipping...\n",
      "Processing Record 7 of Set 10 | bilibino\n",
      "Processing Record 8 of Set 10 | prince rupert\n",
      "Processing Record 9 of Set 10 | pemba\n",
      "Processing Record 10 of Set 10 | san juan\n",
      "Processing Record 11 of Set 10 | paamiut\n",
      "Processing Record 12 of Set 10 | golyshmanovo\n",
      "Processing Record 13 of Set 10 | sosnytsya\n",
      "Processing Record 14 of Set 10 | portland\n",
      "Processing Record 15 of Set 10 | manali\n",
      "Processing Record 16 of Set 10 | hillsborough\n",
      "Processing Record 17 of Set 10 | rengo\n",
      "Processing Record 18 of Set 10 | kingman\n",
      "Processing Record 19 of Set 10 | verkhnyaya toyma\n",
      "Processing Record 20 of Set 10 | shenjiamen\n",
      "Processing Record 21 of Set 10 | gorontalo\n",
      "Processing Record 22 of Set 10 | matagami\n",
      "Processing Record 23 of Set 10 | kiama\n",
      "Processing Record 24 of Set 10 | fort madison\n",
      "Processing Record 25 of Set 10 | viligili\n",
      "City not found. Skipping...\n",
      "Processing Record 26 of Set 10 | yulara\n",
      "Processing Record 27 of Set 10 | lasa\n",
      "Processing Record 28 of Set 10 | fortuna foothills\n",
      "Processing Record 29 of Set 10 | macamic\n",
      "Processing Record 30 of Set 10 | moussoro\n",
      "Processing Record 31 of Set 10 | novosergiyevka\n",
      "Processing Record 32 of Set 10 | bahia blanca\n",
      "Processing Record 33 of Set 10 | acapulco\n",
      "Processing Record 34 of Set 10 | suntar\n",
      "Processing Record 35 of Set 10 | monrovia\n",
      "Processing Record 36 of Set 10 | weinan\n",
      "Processing Record 37 of Set 10 | maiduguri\n",
      "Processing Record 38 of Set 10 | adrar\n",
      "Processing Record 39 of Set 10 | brandon\n",
      "Processing Record 40 of Set 10 | lubao\n",
      "Processing Record 41 of Set 10 | cesvaine\n",
      "Processing Record 42 of Set 10 | mount gambier\n",
      "Processing Record 43 of Set 10 | gizo\n",
      "Processing Record 44 of Set 10 | lemesos\n",
      "City not found. Skipping...\n",
      "Processing Record 45 of Set 10 | tabiauea\n",
      "City not found. Skipping...\n",
      "Processing Record 46 of Set 10 | imbituba\n",
      "Processing Record 47 of Set 10 | bodh gaya\n",
      "Processing Record 48 of Set 10 | sanary-sur-mer\n",
      "Processing Record 49 of Set 10 | rungata\n",
      "City not found. Skipping...\n",
      "Processing Record 0 of Set 11 | sisimiut\n",
      "Processing Record 1 of Set 11 | raymond terrace\n",
      "Processing Record 2 of Set 11 | shizunai\n",
      "Processing Record 3 of Set 11 | turbat\n",
      "Processing Record 4 of Set 11 | havoysund\n",
      "Processing Record 5 of Set 11 | priyutovo\n",
      "Processing Record 6 of Set 11 | khanion tou kokkini\n",
      "City not found. Skipping...\n",
      "Processing Record 7 of Set 11 | salalah\n",
      "Processing Record 8 of Set 11 | balabac\n",
      "Processing Record 9 of Set 11 | san vicente\n",
      "Processing Record 10 of Set 11 | puerto madryn\n",
      "Processing Record 11 of Set 11 | bajo baudo\n",
      "City not found. Skipping...\n",
      "Processing Record 12 of Set 11 | lanxi\n",
      "Processing Record 13 of Set 11 | puerto leguizamo\n",
      "Processing Record 14 of Set 11 | havelock\n",
      "Processing Record 15 of Set 11 | meulaboh\n",
      "Processing Record 16 of Set 11 | ferrol\n",
      "Processing Record 17 of Set 11 | khormuj\n",
      "City not found. Skipping...\n",
      "Processing Record 18 of Set 11 | qaqortoq\n",
      "Processing Record 19 of Set 11 | marsh harbour\n",
      "Processing Record 20 of Set 11 | hirado\n",
      "Processing Record 21 of Set 11 | daru\n",
      "Processing Record 22 of Set 11 | kushiro\n",
      "Processing Record 23 of Set 11 | huari\n",
      "Processing Record 24 of Set 11 | samarai\n",
      "Processing Record 25 of Set 11 | aloleng\n",
      "Processing Record 26 of Set 11 | fuling\n",
      "Processing Record 27 of Set 11 | maydolong\n",
      "Processing Record 28 of Set 11 | melfort\n",
      "Processing Record 29 of Set 11 | bargal\n",
      "City not found. Skipping...\n",
      "Processing Record 30 of Set 11 | payo\n",
      "Processing Record 31 of Set 11 | kintampo\n",
      "Processing Record 32 of Set 11 | paripiranga\n",
      "Processing Record 33 of Set 11 | kerur\n",
      "Processing Record 34 of Set 11 | port hardy\n",
      "Processing Record 35 of Set 11 | broken hill\n",
      "Processing Record 36 of Set 11 | robe\n",
      "Processing Record 37 of Set 11 | constitucion\n",
      "Processing Record 38 of Set 11 | zhigansk\n",
      "Processing Record 39 of Set 11 | svecha\n",
      "Processing Record 40 of Set 11 | jaguey grande\n",
      "Processing Record 41 of Set 11 | saint-augustin\n",
      "Processing Record 42 of Set 11 | ardakan\n",
      "Processing Record 43 of Set 11 | talnakh\n",
      "Processing Record 44 of Set 11 | nyimba\n",
      "Processing Record 45 of Set 11 | takahagi\n",
      "Processing Record 46 of Set 11 | chapada dos guimaraes\n",
      "Processing Record 47 of Set 11 | hofn\n",
      "Processing Record 48 of Set 11 | redlands\n",
      "Processing Record 49 of Set 11 | gigmoto\n",
      "Processing Record 0 of Set 12 | kazalinsk\n",
      "City not found. Skipping...\n",
      "Processing Record 1 of Set 12 | guamo\n",
      "Processing Record 2 of Set 12 | acarau\n",
      "Processing Record 3 of Set 12 | senneterre\n",
      "Processing Record 4 of Set 12 | plastun\n",
      "Processing Record 5 of Set 12 | mahadday weyne\n",
      "City not found. Skipping...\n",
      "Processing Record 6 of Set 12 | saint-georges\n",
      "Processing Record 7 of Set 12 | port hawkesbury\n",
      "Processing Record 8 of Set 12 | meyungs\n",
      "City not found. Skipping...\n",
      "Processing Record 9 of Set 12 | houma\n",
      "Processing Record 10 of Set 12 | soledade\n",
      "Processing Record 11 of Set 12 | gonbad-e qabus\n"
     ]
    },
    {
     "name": "stdout",
     "output_type": "stream",
     "text": [
      "Processing Record 12 of Set 12 | joao pinheiro\n",
      "Processing Record 13 of Set 12 | krutinka\n",
      "Processing Record 14 of Set 12 | vao\n",
      "Processing Record 15 of Set 12 | nefteyugansk\n",
      "Processing Record 16 of Set 12 | wanning\n",
      "Processing Record 17 of Set 12 | am timan\n",
      "Processing Record 18 of Set 12 | del rio\n",
      "Processing Record 19 of Set 12 | staryy nadym\n",
      "Processing Record 20 of Set 12 | rolla\n",
      "Processing Record 21 of Set 12 | urambo\n",
      "Processing Record 22 of Set 12 | casablanca\n",
      "Processing Record 23 of Set 12 | marquette\n",
      "Processing Record 24 of Set 12 | dolores\n",
      "Processing Record 25 of Set 12 | palmer\n",
      "Processing Record 26 of Set 12 | rundu\n",
      "Processing Record 27 of Set 12 | antalaha\n",
      "Processing Record 28 of Set 12 | marsa matruh\n",
      "Processing Record 29 of Set 12 | casper\n",
      "Processing Record 30 of Set 12 | lolua\n",
      "City not found. Skipping...\n",
      "Processing Record 31 of Set 12 | gorokhovets\n",
      "Processing Record 32 of Set 12 | tilichiki\n",
      "Processing Record 33 of Set 12 | saint combs\n",
      "City not found. Skipping...\n",
      "Processing Record 34 of Set 12 | warmbad\n",
      "Processing Record 35 of Set 12 | wattegama\n",
      "Processing Record 36 of Set 12 | kinablangan\n",
      "Processing Record 37 of Set 12 | pietersburg\n",
      "Processing Record 38 of Set 12 | mabaruma\n",
      "Processing Record 39 of Set 12 | andenes\n",
      "Processing Record 40 of Set 12 | marinette\n",
      "Processing Record 41 of Set 12 | roseburg\n",
      "Processing Record 42 of Set 12 | adana\n",
      "Processing Record 43 of Set 12 | yarada\n",
      "Processing Record 44 of Set 12 | malanje\n",
      "Processing Record 45 of Set 12 | sorong\n",
      "Processing Record 46 of Set 12 | kathmandu\n",
      "Processing Record 47 of Set 12 | kamskoye ustye\n",
      "Processing Record 48 of Set 12 | izumo\n",
      "Processing Record 49 of Set 12 | mantua\n",
      "Processing Record 0 of Set 13 | nara\n",
      "Processing Record 1 of Set 13 | ewa beach\n",
      "Processing Record 2 of Set 13 | jhanjharpur\n",
      "Processing Record 3 of Set 13 | hirara\n",
      "Processing Record 4 of Set 13 | sassandra\n",
      "Processing Record 5 of Set 13 | ust-karsk\n",
      "Processing Record 6 of Set 13 | avera\n",
      "Processing Record 7 of Set 13 | lagoa\n",
      "Processing Record 8 of Set 13 | bull savanna\n",
      "Processing Record 9 of Set 13 | kirakira\n",
      "Processing Record 10 of Set 13 | florence\n",
      "Processing Record 11 of Set 13 | tias\n",
      "-----------------------------\n",
      "Data Retrieval Complete      \n",
      "-----------------------------\n"
     ]
    }
   ],
   "source": [
    "# Set the API base URL\n",
    "url = \"http://api.openweathermap.org/data/2.5/weather?\"\n",
    "\n",
    "# Define an empty list to fetch the weather data for each city\n",
    "city_data = []\n",
    "\n",
    "# Print to logger\n",
    "print(\"Beginning Data Retrieval     \")\n",
    "print(\"-----------------------------\")\n",
    "\n",
    "# Create counters\n",
    "record_count = 1\n",
    "set_count = 1\n",
    "\n",
    "# Loop through all the cities in our list to fetch weather data\n",
    "for i, city in enumerate(cities):\n",
    "        \n",
    "    # Group cities in sets of 50 for logging purposes\n",
    "    if (i % 50 == 0 and i >= 50):\n",
    "        set_count += 1\n",
    "        record_count = 0\n",
    "\n",
    "    # Create endpoint URL with each city\n",
    "    city_url = f\"{url}q={city}&units=metric&appid={weather_api_key}\"\n",
    "    \n",
    "    # Log the url, record, and set numbers\n",
    "    print(\"Processing Record %s of Set %s | %s\" % (record_count, set_count, city))\n",
    "\n",
    "    # Add 1 to the record count\n",
    "    record_count += 1\n",
    "\n",
    "    # Run an API request for each of the cities\n",
    "    try:\n",
    "        # Parse the JSON and retrieve data\n",
    "        city_weather = (requests.get(city_url)).json()\n",
    "\n",
    "        # Parse out latitude, longitude, max temp, humidity, cloudiness, wind speed, country, and date\n",
    "        city_lat = city_weather[\"coord\"][\"lat\"]\n",
    "        city_lng = city_weather['coord']['lon']\n",
    "        city_temp_max = city_weather['main']['temp_max']\n",
    "        city_humidity = city_weather['main']['humidity']\n",
    "        city_clouds = city_weather['clouds']['all']\n",
    "        city_wind = city_weather['wind']['speed']\n",
    "        city_country = city_weather['sys']['country']\n",
    "        city_date = city_weather[\"dt\"]\n",
    "\n",
    "        # Append the City information into city_data list\n",
    "        city_data.append({\"City\": city, \n",
    "                          \"Lat\": city_lat,\n",
    "                          \"Lng\": city_lng, \n",
    "                          \"Max Temp\": city_temp_max,\n",
    "                          \"Humidity\": city_humidity,\n",
    "                          \"Cloudiness\": city_clouds,\n",
    "                          \"Wind Speed\": city_wind,\n",
    "                          \"Country\": city_country,\n",
    "                          \"Date\": city_date\n",
    "                         })\n",
    "        \n",
    "    # If an error is experienced, skip the city\n",
    "    except:\n",
    "        print(\"City not found. Skipping...\")\n",
    "        pass\n",
    "    \n",
    "    # Give server 10 seconds break in between each iteration\n",
    "    time.sleep(10)\n",
    "    \n",
    "# Indicate that Data Loading is complete \n",
    "print(\"-----------------------------\")\n",
    "print(\"Data Retrieval Complete      \")\n",
    "print(\"-----------------------------\")"
   ]
  },
  {
   "cell_type": "code",
   "execution_count": 4,
   "metadata": {},
   "outputs": [
    {
     "data": {
      "text/plain": [
       "City          563\n",
       "Lat           563\n",
       "Lng           563\n",
       "Max Temp      563\n",
       "Humidity      563\n",
       "Cloudiness    563\n",
       "Wind Speed    563\n",
       "Country       563\n",
       "Date          563\n",
       "dtype: int64"
      ]
     },
     "execution_count": 4,
     "metadata": {},
     "output_type": "execute_result"
    }
   ],
   "source": [
    "# Convert the cities weather data into a Pandas DataFrame\n",
    "city_data_df = pd.DataFrame(city_data)\n",
    "\n",
    "# Show Record Count\n",
    "city_data_df.count()"
   ]
  },
  {
   "cell_type": "code",
   "execution_count": 5,
   "metadata": {},
   "outputs": [
    {
     "data": {
      "text/html": [
       "<div>\n",
       "<style scoped>\n",
       "    .dataframe tbody tr th:only-of-type {\n",
       "        vertical-align: middle;\n",
       "    }\n",
       "\n",
       "    .dataframe tbody tr th {\n",
       "        vertical-align: top;\n",
       "    }\n",
       "\n",
       "    .dataframe thead th {\n",
       "        text-align: right;\n",
       "    }\n",
       "</style>\n",
       "<table border=\"1\" class=\"dataframe\">\n",
       "  <thead>\n",
       "    <tr style=\"text-align: right;\">\n",
       "      <th></th>\n",
       "      <th>City</th>\n",
       "      <th>Lat</th>\n",
       "      <th>Lng</th>\n",
       "      <th>Max Temp</th>\n",
       "      <th>Humidity</th>\n",
       "      <th>Cloudiness</th>\n",
       "      <th>Wind Speed</th>\n",
       "      <th>Country</th>\n",
       "      <th>Date</th>\n",
       "    </tr>\n",
       "  </thead>\n",
       "  <tbody>\n",
       "    <tr>\n",
       "      <th>0</th>\n",
       "      <td>longyearbyen</td>\n",
       "      <td>78.2186</td>\n",
       "      <td>15.6401</td>\n",
       "      <td>-14.04</td>\n",
       "      <td>89</td>\n",
       "      <td>59</td>\n",
       "      <td>2.13</td>\n",
       "      <td>SJ</td>\n",
       "      <td>1674631228</td>\n",
       "    </tr>\n",
       "    <tr>\n",
       "      <th>1</th>\n",
       "      <td>kaitangata</td>\n",
       "      <td>-46.2817</td>\n",
       "      <td>169.8464</td>\n",
       "      <td>16.88</td>\n",
       "      <td>79</td>\n",
       "      <td>47</td>\n",
       "      <td>1.99</td>\n",
       "      <td>NZ</td>\n",
       "      <td>1674631000</td>\n",
       "    </tr>\n",
       "    <tr>\n",
       "      <th>2</th>\n",
       "      <td>hermanus</td>\n",
       "      <td>-34.4187</td>\n",
       "      <td>19.2345</td>\n",
       "      <td>19.89</td>\n",
       "      <td>49</td>\n",
       "      <td>0</td>\n",
       "      <td>4.59</td>\n",
       "      <td>ZA</td>\n",
       "      <td>1674631229</td>\n",
       "    </tr>\n",
       "    <tr>\n",
       "      <th>3</th>\n",
       "      <td>idukki</td>\n",
       "      <td>9.8500</td>\n",
       "      <td>76.9667</td>\n",
       "      <td>29.31</td>\n",
       "      <td>40</td>\n",
       "      <td>97</td>\n",
       "      <td>0.78</td>\n",
       "      <td>IN</td>\n",
       "      <td>1674631158</td>\n",
       "    </tr>\n",
       "    <tr>\n",
       "      <th>4</th>\n",
       "      <td>barrow</td>\n",
       "      <td>71.2906</td>\n",
       "      <td>-156.7887</td>\n",
       "      <td>-27.89</td>\n",
       "      <td>98</td>\n",
       "      <td>78</td>\n",
       "      <td>7.08</td>\n",
       "      <td>US</td>\n",
       "      <td>1674630948</td>\n",
       "    </tr>\n",
       "  </tbody>\n",
       "</table>\n",
       "</div>"
      ],
      "text/plain": [
       "           City      Lat       Lng  Max Temp  Humidity  Cloudiness  \\\n",
       "0  longyearbyen  78.2186   15.6401    -14.04        89          59   \n",
       "1    kaitangata -46.2817  169.8464     16.88        79          47   \n",
       "2      hermanus -34.4187   19.2345     19.89        49           0   \n",
       "3        idukki   9.8500   76.9667     29.31        40          97   \n",
       "4        barrow  71.2906 -156.7887    -27.89        98          78   \n",
       "\n",
       "   Wind Speed Country        Date  \n",
       "0        2.13      SJ  1674631228  \n",
       "1        1.99      NZ  1674631000  \n",
       "2        4.59      ZA  1674631229  \n",
       "3        0.78      IN  1674631158  \n",
       "4        7.08      US  1674630948  "
      ]
     },
     "execution_count": 5,
     "metadata": {},
     "output_type": "execute_result"
    }
   ],
   "source": [
    "# Display sample data\n",
    "city_data_df.head()"
   ]
  },
  {
   "cell_type": "code",
   "execution_count": 6,
   "metadata": {},
   "outputs": [],
   "source": [
    "# Export the City_Data into a csv\n",
    "city_data_df.to_csv(\"output_data/cities.csv\", index_label=\"City_ID\")"
   ]
  },
  {
   "cell_type": "code",
   "execution_count": 7,
   "metadata": {},
   "outputs": [
    {
     "data": {
      "text/html": [
       "<div>\n",
       "<style scoped>\n",
       "    .dataframe tbody tr th:only-of-type {\n",
       "        vertical-align: middle;\n",
       "    }\n",
       "\n",
       "    .dataframe tbody tr th {\n",
       "        vertical-align: top;\n",
       "    }\n",
       "\n",
       "    .dataframe thead th {\n",
       "        text-align: right;\n",
       "    }\n",
       "</style>\n",
       "<table border=\"1\" class=\"dataframe\">\n",
       "  <thead>\n",
       "    <tr style=\"text-align: right;\">\n",
       "      <th></th>\n",
       "      <th>City</th>\n",
       "      <th>Lat</th>\n",
       "      <th>Lng</th>\n",
       "      <th>Max Temp</th>\n",
       "      <th>Humidity</th>\n",
       "      <th>Cloudiness</th>\n",
       "      <th>Wind Speed</th>\n",
       "      <th>Country</th>\n",
       "      <th>Date</th>\n",
       "    </tr>\n",
       "    <tr>\n",
       "      <th>City_ID</th>\n",
       "      <th></th>\n",
       "      <th></th>\n",
       "      <th></th>\n",
       "      <th></th>\n",
       "      <th></th>\n",
       "      <th></th>\n",
       "      <th></th>\n",
       "      <th></th>\n",
       "      <th></th>\n",
       "    </tr>\n",
       "  </thead>\n",
       "  <tbody>\n",
       "    <tr>\n",
       "      <th>0</th>\n",
       "      <td>longyearbyen</td>\n",
       "      <td>78.2186</td>\n",
       "      <td>15.6401</td>\n",
       "      <td>-14.04</td>\n",
       "      <td>89</td>\n",
       "      <td>59</td>\n",
       "      <td>2.13</td>\n",
       "      <td>SJ</td>\n",
       "      <td>1674631228</td>\n",
       "    </tr>\n",
       "    <tr>\n",
       "      <th>1</th>\n",
       "      <td>kaitangata</td>\n",
       "      <td>-46.2817</td>\n",
       "      <td>169.8464</td>\n",
       "      <td>16.88</td>\n",
       "      <td>79</td>\n",
       "      <td>47</td>\n",
       "      <td>1.99</td>\n",
       "      <td>NZ</td>\n",
       "      <td>1674631000</td>\n",
       "    </tr>\n",
       "    <tr>\n",
       "      <th>2</th>\n",
       "      <td>hermanus</td>\n",
       "      <td>-34.4187</td>\n",
       "      <td>19.2345</td>\n",
       "      <td>19.89</td>\n",
       "      <td>49</td>\n",
       "      <td>0</td>\n",
       "      <td>4.59</td>\n",
       "      <td>ZA</td>\n",
       "      <td>1674631229</td>\n",
       "    </tr>\n",
       "    <tr>\n",
       "      <th>3</th>\n",
       "      <td>idukki</td>\n",
       "      <td>9.8500</td>\n",
       "      <td>76.9667</td>\n",
       "      <td>29.31</td>\n",
       "      <td>40</td>\n",
       "      <td>97</td>\n",
       "      <td>0.78</td>\n",
       "      <td>IN</td>\n",
       "      <td>1674631158</td>\n",
       "    </tr>\n",
       "    <tr>\n",
       "      <th>4</th>\n",
       "      <td>barrow</td>\n",
       "      <td>71.2906</td>\n",
       "      <td>-156.7887</td>\n",
       "      <td>-27.89</td>\n",
       "      <td>98</td>\n",
       "      <td>78</td>\n",
       "      <td>7.08</td>\n",
       "      <td>US</td>\n",
       "      <td>1674630948</td>\n",
       "    </tr>\n",
       "  </tbody>\n",
       "</table>\n",
       "</div>"
      ],
      "text/plain": [
       "                 City      Lat       Lng  Max Temp  Humidity  Cloudiness  \\\n",
       "City_ID                                                                    \n",
       "0        longyearbyen  78.2186   15.6401    -14.04        89          59   \n",
       "1          kaitangata -46.2817  169.8464     16.88        79          47   \n",
       "2            hermanus -34.4187   19.2345     19.89        49           0   \n",
       "3              idukki   9.8500   76.9667     29.31        40          97   \n",
       "4              barrow  71.2906 -156.7887    -27.89        98          78   \n",
       "\n",
       "         Wind Speed Country        Date  \n",
       "City_ID                                  \n",
       "0              2.13      SJ  1674631228  \n",
       "1              1.99      NZ  1674631000  \n",
       "2              4.59      ZA  1674631229  \n",
       "3              0.78      IN  1674631158  \n",
       "4              7.08      US  1674630948  "
      ]
     },
     "execution_count": 7,
     "metadata": {},
     "output_type": "execute_result"
    }
   ],
   "source": [
    "# Read saved data\n",
    "city_data_df = pd.read_csv(\"output_data/cities.csv\", index_col=\"City_ID\")\n",
    "\n",
    "# Display sample data\n",
    "city_data_df.head()"
   ]
  },
  {
   "cell_type": "markdown",
   "metadata": {},
   "source": [
    "### Create the Scatter Plots Requested\n",
    "\n",
    "#### Latitude Vs. Temperature"
   ]
  },
  {
   "cell_type": "code",
   "execution_count": 8,
   "metadata": {
    "tags": []
   },
   "outputs": [
    {
     "data": {
      "image/png": "[encoded data removed]",
      "text/plain": [
       "<Figure size 432x288 with 1 Axes>"
      ]
     },
     "metadata": {
      "needs_background": "light"
     },
     "output_type": "display_data"
    }
   ],
   "source": [
    "# Build scatter plot for latitude vs. temperature\n",
    "plt.scatter(city_data_df[\"Max Temp\"], city_data_df[\"Lat\"])\n",
    "\n",
    "# Incorporate the other graph properties\n",
    "plt.xlabel(\"Latitude\")\n",
    "plt.ylabel(\"Max Temperature\")\n",
    "\n",
    "# Save the figure\n",
    "plt.savefig(\"output_data/Fig1.png\")\n",
    "\n",
    "# Show plot\n",
    "plt.show()"
   ]
  },
  {
   "cell_type": "markdown",
   "metadata": {},
   "source": [
    "#### Latitude Vs. Humidity"
   ]
  },
  {
   "cell_type": "code",
   "execution_count": 9,
   "metadata": {},
   "outputs": [
    {
     "data": {
      "image/png": "[encoded data removed]",
      "text/plain": [
       "<Figure size 432x288 with 1 Axes>"
      ]
     },
     "metadata": {
      "needs_background": "light"
     },
     "output_type": "display_data"
    }
   ],
   "source": [
    "# Build the scatter plots for latitude vs. humidity\n",
    "plt.scatter(city_data_df[\"Humidity\"], city_data_df[\"Lat\"])\n",
    "\n",
    "# Incorporate the other graph properties\n",
    "plt.xlabel(\"Latitude\")\n",
    "plt.ylabel(\"Humidity\")\n",
    "\n",
    "# Save the figure\n",
    "plt.savefig(\"output_data/Fig2.png\")\n",
    "\n",
    "# Show plot\n",
    "plt.show()"
   ]
  },
  {
   "cell_type": "markdown",
   "metadata": {},
   "source": [
    "#### Latitude Vs. Cloudiness"
   ]
  },
  {
   "cell_type": "code",
   "execution_count": 10,
   "metadata": {},
   "outputs": [
    {
     "data": {
      "image/png": "[encoded data removed]",
      "text/plain": [
       "<Figure size 432x288 with 1 Axes>"
      ]
     },
     "metadata": {
      "needs_background": "light"
     },
     "output_type": "display_data"
    }
   ],
   "source": [
    "# Build the scatter plots for latitude vs. cloudiness\n",
    "plt.scatter(city_data_df[\"Cloudiness\"], city_data_df[\"Lat\"])\n",
    "\n",
    "# Incorporate the other graph properties\n",
    "plt.xlabel(\"Latitude\")\n",
    "plt.ylabel(\"Cloudiness\")\n",
    "\n",
    "# Save the figure\n",
    "plt.savefig(\"output_data/Fig3.png\")\n",
    "\n",
    "# Show plot\n",
    "plt.show()"
   ]
  },
  {
   "cell_type": "markdown",
   "metadata": {},
   "source": [
    "#### Latitude vs. Wind Speed Plot"
   ]
  },
  {
   "cell_type": "code",
   "execution_count": 11,
   "metadata": {},
   "outputs": [
    {
     "data": {
      "image/png": "[encoded data removed]",
      "text/plain": [
       "<Figure size 432x288 with 1 Axes>"
      ]
     },
     "metadata": {
      "needs_background": "light"
     },
     "output_type": "display_data"
    }
   ],
   "source": [
    "# Build the scatter plots for latitude vs. wind speed\n",
    "plt.scatter(city_data_df[\"Wind Speed\"], city_data_df[\"Lat\"])\n",
    "\n",
    "# Incorporate the other graph properties\n",
    "plt.xlabel(\"Latitude\")\n",
    "plt.ylabel(\"Wind Speed\")\n",
    "\n",
    "# Save the figure\n",
    "plt.savefig(\"output_data/Fig4.png\")\n",
    "\n",
    "# Show plot\n",
    "plt.show()"
   ]
  },
  {
   "cell_type": "markdown",
   "metadata": {},
   "source": [
    "---\n",
    "\n",
    "## Compute Linear Regression for Each Relationship\n"
   ]
  },
  {
   "cell_type": "code",
   "execution_count": 12,
   "metadata": {},
   "outputs": [],
   "source": [
    "# Define a function to create Linear Regression plots\n",
    "def linear_regress(x, y, eqn_coordinates):\n",
    "    r = st.pearsonr(x, y)\n",
    "    print(f\"The r-value is: {r[0]}\")\n",
    "    (slope, intercept, rvalue, pvalue, stderr) = linregress(x, y)\n",
    "    regress_values = x * slope + intercept\n",
    "    line_eq = f\"y ={slope: .2f}x +{intercept: .2f}\"\n",
    "    plt.plot(x, regress_values, \"r-\")\n",
    "    plt.annotate(line_eq, eqn_coordinates, fontsize=12, color=\"red\")\n",
    "    plt.scatter(x, y)\n",
    "    plt.xlabel(f\"{x.name}\")\n",
    "    plt.ylabel(f\"{y.name}\")"
   ]
  },
  {
   "cell_type": "code",
   "execution_count": 13,
   "metadata": {},
   "outputs": [
    {
     "data": {
      "text/html": [
       "<div>\n",
       "<style scoped>\n",
       "    .dataframe tbody tr th:only-of-type {\n",
       "        vertical-align: middle;\n",
       "    }\n",
       "\n",
       "    .dataframe tbody tr th {\n",
       "        vertical-align: top;\n",
       "    }\n",
       "\n",
       "    .dataframe thead th {\n",
       "        text-align: right;\n",
       "    }\n",
       "</style>\n",
       "<table border=\"1\" class=\"dataframe\">\n",
       "  <thead>\n",
       "    <tr style=\"text-align: right;\">\n",
       "      <th></th>\n",
       "      <th>City</th>\n",
       "      <th>Lat</th>\n",
       "      <th>Lng</th>\n",
       "      <th>Max Temp</th>\n",
       "      <th>Humidity</th>\n",
       "      <th>Cloudiness</th>\n",
       "      <th>Wind Speed</th>\n",
       "      <th>Country</th>\n",
       "      <th>Date</th>\n",
       "    </tr>\n",
       "    <tr>\n",
       "      <th>City_ID</th>\n",
       "      <th></th>\n",
       "      <th></th>\n",
       "      <th></th>\n",
       "      <th></th>\n",
       "      <th></th>\n",
       "      <th></th>\n",
       "      <th></th>\n",
       "      <th></th>\n",
       "      <th></th>\n",
       "    </tr>\n",
       "  </thead>\n",
       "  <tbody>\n",
       "    <tr>\n",
       "      <th>0</th>\n",
       "      <td>longyearbyen</td>\n",
       "      <td>78.2186</td>\n",
       "      <td>15.6401</td>\n",
       "      <td>-14.04</td>\n",
       "      <td>89</td>\n",
       "      <td>59</td>\n",
       "      <td>2.13</td>\n",
       "      <td>SJ</td>\n",
       "      <td>1674631228</td>\n",
       "    </tr>\n",
       "    <tr>\n",
       "      <th>3</th>\n",
       "      <td>idukki</td>\n",
       "      <td>9.8500</td>\n",
       "      <td>76.9667</td>\n",
       "      <td>29.31</td>\n",
       "      <td>40</td>\n",
       "      <td>97</td>\n",
       "      <td>0.78</td>\n",
       "      <td>IN</td>\n",
       "      <td>1674631158</td>\n",
       "    </tr>\n",
       "    <tr>\n",
       "      <th>4</th>\n",
       "      <td>barrow</td>\n",
       "      <td>71.2906</td>\n",
       "      <td>-156.7887</td>\n",
       "      <td>-27.89</td>\n",
       "      <td>98</td>\n",
       "      <td>78</td>\n",
       "      <td>7.08</td>\n",
       "      <td>US</td>\n",
       "      <td>1674630948</td>\n",
       "    </tr>\n",
       "    <tr>\n",
       "      <th>5</th>\n",
       "      <td>ranong</td>\n",
       "      <td>9.9658</td>\n",
       "      <td>98.6348</td>\n",
       "      <td>28.93</td>\n",
       "      <td>65</td>\n",
       "      <td>75</td>\n",
       "      <td>6.36</td>\n",
       "      <td>TH</td>\n",
       "      <td>1674631230</td>\n",
       "    </tr>\n",
       "    <tr>\n",
       "      <th>7</th>\n",
       "      <td>toppenish</td>\n",
       "      <td>46.3774</td>\n",
       "      <td>-120.3087</td>\n",
       "      <td>2.62</td>\n",
       "      <td>84</td>\n",
       "      <td>22</td>\n",
       "      <td>0.48</td>\n",
       "      <td>US</td>\n",
       "      <td>1674631153</td>\n",
       "    </tr>\n",
       "  </tbody>\n",
       "</table>\n",
       "</div>"
      ],
      "text/plain": [
       "                 City      Lat       Lng  Max Temp  Humidity  Cloudiness  \\\n",
       "City_ID                                                                    \n",
       "0        longyearbyen  78.2186   15.6401    -14.04        89          59   \n",
       "3              idukki   9.8500   76.9667     29.31        40          97   \n",
       "4              barrow  71.2906 -156.7887    -27.89        98          78   \n",
       "5              ranong   9.9658   98.6348     28.93        65          75   \n",
       "7           toppenish  46.3774 -120.3087      2.62        84          22   \n",
       "\n",
       "         Wind Speed Country        Date  \n",
       "City_ID                                  \n",
       "0              2.13      SJ  1674631228  \n",
       "3              0.78      IN  1674631158  \n",
       "4              7.08      US  1674630948  \n",
       "5              6.36      TH  1674631230  \n",
       "7              0.48      US  1674631153  "
      ]
     },
     "execution_count": 13,
     "metadata": {},
     "output_type": "execute_result"
    }
   ],
   "source": [
    "# Create a DataFrame with the Northern Hemisphere data (Latitude >= 0)\n",
    "northern_hemi_df = city_data_df.loc[city_data_df[\"Lat\"] >= 0]\n",
    "\n",
    "# Display sample data\n",
    "northern_hemi_df.head()"
   ]
  },
  {
   "cell_type": "code",
   "execution_count": 14,
   "metadata": {},
   "outputs": [
    {
     "data": {
      "text/html": [
       "<div>\n",
       "<style scoped>\n",
       "    .dataframe tbody tr th:only-of-type {\n",
       "        vertical-align: middle;\n",
       "    }\n",
       "\n",
       "    .dataframe tbody tr th {\n",
       "        vertical-align: top;\n",
       "    }\n",
       "\n",
       "    .dataframe thead th {\n",
       "        text-align: right;\n",
       "    }\n",
       "</style>\n",
       "<table border=\"1\" class=\"dataframe\">\n",
       "  <thead>\n",
       "    <tr style=\"text-align: right;\">\n",
       "      <th></th>\n",
       "      <th>City</th>\n",
       "      <th>Lat</th>\n",
       "      <th>Lng</th>\n",
       "      <th>Max Temp</th>\n",
       "      <th>Humidity</th>\n",
       "      <th>Cloudiness</th>\n",
       "      <th>Wind Speed</th>\n",
       "      <th>Country</th>\n",
       "      <th>Date</th>\n",
       "    </tr>\n",
       "    <tr>\n",
       "      <th>City_ID</th>\n",
       "      <th></th>\n",
       "      <th></th>\n",
       "      <th></th>\n",
       "      <th></th>\n",
       "      <th></th>\n",
       "      <th></th>\n",
       "      <th></th>\n",
       "      <th></th>\n",
       "      <th></th>\n",
       "    </tr>\n",
       "  </thead>\n",
       "  <tbody>\n",
       "    <tr>\n",
       "      <th>1</th>\n",
       "      <td>kaitangata</td>\n",
       "      <td>-46.2817</td>\n",
       "      <td>169.8464</td>\n",
       "      <td>16.88</td>\n",
       "      <td>79</td>\n",
       "      <td>47</td>\n",
       "      <td>1.99</td>\n",
       "      <td>NZ</td>\n",
       "      <td>1674631000</td>\n",
       "    </tr>\n",
       "    <tr>\n",
       "      <th>2</th>\n",
       "      <td>hermanus</td>\n",
       "      <td>-34.4187</td>\n",
       "      <td>19.2345</td>\n",
       "      <td>19.89</td>\n",
       "      <td>49</td>\n",
       "      <td>0</td>\n",
       "      <td>4.59</td>\n",
       "      <td>ZA</td>\n",
       "      <td>1674631229</td>\n",
       "    </tr>\n",
       "    <tr>\n",
       "      <th>6</th>\n",
       "      <td>punta arenas</td>\n",
       "      <td>-53.1500</td>\n",
       "      <td>-70.9167</td>\n",
       "      <td>10.06</td>\n",
       "      <td>62</td>\n",
       "      <td>75</td>\n",
       "      <td>9.26</td>\n",
       "      <td>CL</td>\n",
       "      <td>1674630983</td>\n",
       "    </tr>\n",
       "    <tr>\n",
       "      <th>9</th>\n",
       "      <td>rikitea</td>\n",
       "      <td>-23.1203</td>\n",
       "      <td>-134.9692</td>\n",
       "      <td>26.08</td>\n",
       "      <td>80</td>\n",
       "      <td>100</td>\n",
       "      <td>7.73</td>\n",
       "      <td>PF</td>\n",
       "      <td>1674631232</td>\n",
       "    </tr>\n",
       "    <tr>\n",
       "      <th>12</th>\n",
       "      <td>avarua</td>\n",
       "      <td>-21.2078</td>\n",
       "      <td>-159.7750</td>\n",
       "      <td>25.03</td>\n",
       "      <td>83</td>\n",
       "      <td>13</td>\n",
       "      <td>1.03</td>\n",
       "      <td>CK</td>\n",
       "      <td>1674631233</td>\n",
       "    </tr>\n",
       "  </tbody>\n",
       "</table>\n",
       "</div>"
      ],
      "text/plain": [
       "                 City      Lat       Lng  Max Temp  Humidity  Cloudiness  \\\n",
       "City_ID                                                                    \n",
       "1          kaitangata -46.2817  169.8464     16.88        79          47   \n",
       "2            hermanus -34.4187   19.2345     19.89        49           0   \n",
       "6        punta arenas -53.1500  -70.9167     10.06        62          75   \n",
       "9             rikitea -23.1203 -134.9692     26.08        80         100   \n",
       "12             avarua -21.2078 -159.7750     25.03        83          13   \n",
       "\n",
       "         Wind Speed Country        Date  \n",
       "City_ID                                  \n",
       "1              1.99      NZ  1674631000  \n",
       "2              4.59      ZA  1674631229  \n",
       "6              9.26      CL  1674630983  \n",
       "9              7.73      PF  1674631232  \n",
       "12             1.03      CK  1674631233  "
      ]
     },
     "execution_count": 14,
     "metadata": {},
     "output_type": "execute_result"
    }
   ],
   "source": [
    "# Create a DataFrame with the Southern Hemisphere data (Latitude < 0)\n",
    "southern_hemi_df = city_data_df.loc[city_data_df[\"Lat\"] < 0]\n",
    "\n",
    "# Display sample data\n",
    "southern_hemi_df.head()"
   ]
  },
  {
   "cell_type": "markdown",
   "metadata": {},
   "source": [
    "###  Temperature vs. Latitude Linear Regression Plot"
   ]
  },
  {
   "cell_type": "code",
   "execution_count": 15,
   "metadata": {},
   "outputs": [
    {
     "name": "stdout",
     "output_type": "stream",
     "text": [
      "The r-value is: -0.8484592568476155\n"
     ]
    },
    {
     "data": {
      "image/png": "[encoded data removed]",
      "text/plain": [
       "<Figure size 432x288 with 1 Axes>"
      ]
     },
     "metadata": {
      "needs_background": "light"
     },
     "output_type": "display_data"
    }
   ],
   "source": [
    "# Linear regression on Northern Hemisphere\n",
    "linear_regress(northern_hemi_df[\"Lat\"].rename(\"Latitude\"), northern_hemi_df[\"Max Temp\"], (10, -30))"
   ]
  },
  {
   "cell_type": "code",
   "execution_count": 16,
   "metadata": {},
   "outputs": [
    {
     "name": "stdout",
     "output_type": "stream",
     "text": [
      "The r-value is: 0.3593215540260839\n"
     ]
    },
    {
     "data": {
      "image/png": "[encoded data removed]",
      "text/plain": [
       "<Figure size 432x288 with 1 Axes>"
      ]
     },
     "metadata": {
      "needs_background": "light"
     },
     "output_type": "display_data"
    }
   ],
   "source": [
    "# Linear regression on Southern Hemisphere\n",
    "linear_regress(southern_hemi_df[\"Lat\"].rename(\"Latitude\"), southern_hemi_df[\"Max Temp\"], (-30, 8))"
   ]
  },
  {
   "cell_type": "markdown",
   "metadata": {},
   "source": [
    "**Relationship between Temperature and Latitude:**  \n",
    "* There is a fairly strong negative correlation between temperature and latitude with a correlation coefficient of -0.8088479825279142 on Northern Hemisphere.\n",
    "* There is a relatively strong positive correlation between temperature and latitude with a correlation coefficient of 0.4395572110498053 on Southern Hemisphere."
   ]
  },
  {
   "cell_type": "markdown",
   "metadata": {},
   "source": [
    "### Humidity vs. Latitude Linear Regression Plot"
   ]
  },
  {
   "cell_type": "code",
   "execution_count": 17,
   "metadata": {},
   "outputs": [
    {
     "name": "stdout",
     "output_type": "stream",
     "text": [
      "The r-value is: 0.47828397669248923\n"
     ]
    },
    {
     "data": {
      "image/png": "[encoded data removed]",
      "text/plain": [
       "<Figure size 432x288 with 1 Axes>"
      ]
     },
     "metadata": {
      "needs_background": "light"
     },
     "output_type": "display_data"
    }
   ],
   "source": [
    "# Northern Hemisphere\n",
    "linear_regress(northern_hemi_df[\"Lat\"].rename(\"Latitude\"), northern_hemi_df[\"Humidity\"], (50, 40))"
   ]
  },
  {
   "cell_type": "code",
   "execution_count": 18,
   "metadata": {},
   "outputs": [
    {
     "name": "stdout",
     "output_type": "stream",
     "text": [
      "The r-value is: 0.48283253970199\n"
     ]
    },
    {
     "data": {
      "image/png": "[encoded data removed]",
      "text/plain": [
       "<Figure size 432x288 with 1 Axes>"
      ]
     },
     "metadata": {
      "needs_background": "light"
     },
     "output_type": "display_data"
    }
   ],
   "source": [
    "# Southern Hemisphere\n",
    "linear_regress(southern_hemi_df[\"Lat\"].rename(\"Latitude\"), southern_hemi_df[\"Humidity\"], (-20, 50))"
   ]
  },
  {
   "cell_type": "markdown",
   "metadata": {},
   "source": [
    "**Relationship between Humidity and Latitude:**  \n",
    "* There is a relatively strong positive correlation between humidity and latitude with a correlation coefficient of 0.45185249370432223 on Northern Hemisphere.\n",
    "* There is a relatively strong positive correlation correlation between humidity and latitude with a correlation coefficient of 0.5439636787499419 on Southern Hemisphere."
   ]
  },
  {
   "cell_type": "markdown",
   "metadata": {},
   "source": [
    "### Cloudiness vs. Latitude Linear Regression Plot"
   ]
  },
  {
   "cell_type": "code",
   "execution_count": 19,
   "metadata": {},
   "outputs": [
    {
     "name": "stdout",
     "output_type": "stream",
     "text": [
      "The r-value is: 0.3892977300381678\n"
     ]
    },
    {
     "data": {
      "image/png": "[encoded data removed]",
      "text/plain": [
       "<Figure size 432x288 with 1 Axes>"
      ]
     },
     "metadata": {
      "needs_background": "light"
     },
     "output_type": "display_data"
    }
   ],
   "source": [
    "# Northern Hemisphere\n",
    "linear_regress(northern_hemi_df[\"Lat\"].rename(\"Latitude\"), northern_hemi_df[\"Cloudiness\"], (42, 50))"
   ]
  },
  {
   "cell_type": "code",
   "execution_count": 20,
   "metadata": {},
   "outputs": [
    {
     "name": "stdout",
     "output_type": "stream",
     "text": [
      "The r-value is: 0.4654545469315354\n"
     ]
    },
    {
     "data": {
      "image/png": "[encoded data removed]",
      "text/plain": [
       "<Figure size 432x288 with 1 Axes>"
      ]
     },
     "metadata": {
      "needs_background": "light"
     },
     "output_type": "display_data"
    }
   ],
   "source": [
    "# Southern Hemisphere\n",
    "linear_regress(southern_hemi_df[\"Lat\"].rename(\"Latitude\"), southern_hemi_df[\"Cloudiness\"], (-50, 50))"
   ]
  },
  {
   "cell_type": "markdown",
   "metadata": {},
   "source": [
    "**Relationship between Cloudiness and Latitude:**  \n",
    "* There is a weak positive correlation between cloudiness and latitude with a correlation coefficient of 0.30769331493282776 on Northern Hemisphere.\n",
    "* There is a relatively strong positive correlation between cloudiness and latitude with a correlation coefficient of 0.4748614054462095 on Southern Hemisphere."
   ]
  },
  {
   "cell_type": "markdown",
   "metadata": {},
   "source": [
    "### Wind Speed vs. Latitude Linear Regression Plot"
   ]
  },
  {
   "cell_type": "code",
   "execution_count": 21,
   "metadata": {
    "scrolled": true
   },
   "outputs": [
    {
     "name": "stdout",
     "output_type": "stream",
     "text": [
      "The r-value is: 0.15198739623748578\n"
     ]
    },
    {
     "data": {
      "image/png": "[encoded data removed]",
      "text/plain": [
       "<Figure size 432x288 with 1 Axes>"
      ]
     },
     "metadata": {
      "needs_background": "light"
     },
     "output_type": "display_data"
    }
   ],
   "source": [
    "# Northern Hemisphere\n",
    "linear_regress(northern_hemi_df[\"Lat\"].rename(\"Latitude\"), northern_hemi_df[\"Wind Speed\"], (10, 12))"
   ]
  },
  {
   "cell_type": "code",
   "execution_count": 22,
   "metadata": {},
   "outputs": [
    {
     "name": "stdout",
     "output_type": "stream",
     "text": [
      "The r-value is: -0.3387372365126027\n"
     ]
    },
    {
     "data": {
      "image/png": "[encoded data removed]",
      "text/plain": [
       "<Figure size 432x288 with 1 Axes>"
      ]
     },
     "metadata": {
      "needs_background": "light"
     },
     "output_type": "display_data"
    }
   ],
   "source": [
    "# Southern Hemisphere\n",
    "linear_regress(southern_hemi_df[\"Lat\"].rename(\"Latitude\"), southern_hemi_df[\"Wind Speed\"], (-50, 9))"
   ]
  },
  {
   "cell_type": "markdown",
   "metadata": {},
   "source": [
    "**Relationship between Wind Speed and Latitude:**  \n",
    "* There is a negligible to almost no correlation between wind speed and latitude with a correlation coefficient of 0.21507837130179397 on Northern Hemisphere.\n",
    "* There is a weak negative correlation between wind speed and latitude with a correlation coefficient of -0.33748967967974725 on Southern Hemisphere."
   ]
  }
 ],
 "metadata": {
  "anaconda-cloud": {},
  "kernel_info": {
   "name": "python3"
  },
  "kernelspec": {
   "display_name": "Python 3 (ipykernel)",
   "language": "python",
   "name": "python3"
  },
  "language_info": {
   "codemirror_mode": {
    "name": "ipython",
    "version": 3
   },
   "file_extension": ".py",
   "mimetype": "text/x-python",
   "name": "python",
   "nbconvert_exporter": "python",
   "pygments_lexer": "ipython3",
   "version": "3.9.12"
  },
  "latex_envs": {
   "LaTeX_envs_menu_present": true,
   "autoclose": false,
   "autocomplete": true,
   "bibliofile": "biblio.bib",
   "cite_by": "apalike",
   "current_citInitial": 1,
   "eqLabelWithNumbers": true,
   "eqNumInitial": 1,
   "hotkeys": {
    "equation": "Ctrl-E",
    "itemize": "Ctrl-I"
   },
   "labels_anchors": false,
   "latex_user_defs": false,
   "report_style_numbering": false,
   "user_envs_cfg": false
  },
  "nteract": {
   "version": "0.12.3"
  }
 },
 "nbformat": 4,
 "nbformat_minor": 4
}
